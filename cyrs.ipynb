{
  "nbformat": 4,
  "nbformat_minor": 0,
  "metadata": {
    "kernelspec": {
      "display_name": "Python 3",
      "language": "python",
      "name": "python3"
    },
    "language_info": {
      "codemirror_mode": {
        "name": "ipython",
        "version": 3
      },
      "file_extension": ".py",
      "mimetype": "text/x-python",
      "name": "python",
      "nbconvert_exporter": "python",
      "pygments_lexer": "ipython3",
      "version": "3.6.9"
    },
    "colab": {
      "name": "cyrs.ipynb",
      "provenance": [],
      "collapsed_sections": []
    }
  },
  "cells": [
    {
      "cell_type": "code",
      "metadata": {
        "id": "68SBwwrCZVoY"
      },
      "source": [
        "\n",
        "import shutil\n",
        "import os\n"
      ],
      "execution_count": null,
      "outputs": []
    },
    {
      "cell_type": "code",
      "metadata": {
        "id": "vbc9MsCiZVob"
      },
      "source": [
        "# Каталог с набором данных \n",
        "data_dir = '/home/nadezhda/dyp/train' \n",
        "# Каталог с данными для обучения \n",
        "train_dir = 'trainn' \n",
        "train_dirc = 'trainn/ca' \n",
        "train_dird = 'trainn/do' \n",
        "# Каталог с данными для проверки \n",
        "val_dir = 'val'\n",
        "val_dirc = 'val/ca' \n",
        "val_dird = 'val/do' \n",
        "# Каталог с данными для тестирования \n",
        "test_dir = 'test'\n",
        "test_dirc = 'test/ca' \n",
        "test_dird = 'test/do'\n",
        "# Часть набора данных для тестирования \n",
        "test_data_portion = 0.15 \n",
        "# Часть набора данных для проверки \n",
        "val_data_portion = 0.15 \n",
        "# Количество элементов данных в одном классе \n",
        "nb_images = 3000"
      ],
      "execution_count": null,
      "outputs": []
    },
    {
      "cell_type": "code",
      "metadata": {
        "id": "E_tP7mOkZVoc"
      },
      "source": [
        "def create_directory(dir_name):\n",
        "    if os.path.exists(dir_name):\n",
        "        shutil.rmtree(dir_name)\n",
        "    os.makedirs(dir_name)\n",
        "    os.makedirs(os.path.join(dir_name, \"ca\"))\n",
        "    os.makedirs(os.path.join(dir_name, \"do\"))"
      ],
      "execution_count": null,
      "outputs": []
    },
    {
      "cell_type": "code",
      "metadata": {
        "id": "ddG2ZzrpZVoc"
      },
      "source": [
        "create_directory(train_dir)\n",
        "create_directory(val_dir)\n",
        "create_directory(test_dir)"
      ],
      "execution_count": null,
      "outputs": []
    },
    {
      "cell_type": "code",
      "metadata": {
        "id": "A4FdruK4ZVod"
      },
      "source": [
        "def copy_images (start_index, end_index, source_dir, dest_dir1, dest_dir2):\n",
        "    for i in range (start_index, end_index):\n",
        "        shutil.copy2(os.path.join('/home/nadezhda/dyp/train/ca', \"ca (\" + str (i) + \").jpg\"),\n",
        "                    os.path.join(dest_dir1, \"cas.\" + str (i) + \".jpg\"))\n",
        "        shutil.copy2(os.path.join('/home/nadezhda/dyp/train/do', \"do (\" + str (i) + \").jpg\"),\n",
        "                    os.path.join(dest_dir2, \"dos.\" + str (i) + \".jpg\"))"
      ],
      "execution_count": null,
      "outputs": []
    },
    {
      "cell_type": "code",
      "metadata": {
        "id": "Wc0tF8-GZVof",
        "outputId": "ab322d4e-244c-4b3d-cd01-340aab6a3512"
      },
      "source": [
        "start_val_data_idx = int (nb_images * (1 - val_data_portion - test_data_portion))\n",
        "start_test_data_idx = int(nb_images * (1 - test_data_portion))\n",
        "print (start_val_data_idx)\n",
        "print (start_test_data_idx)"
      ],
      "execution_count": null,
      "outputs": [
        {
          "output_type": "stream",
          "text": [
            "2100\n",
            "2550\n"
          ],
          "name": "stdout"
        }
      ]
    },
    {
      "cell_type": "code",
      "metadata": {
        "id": "YSqSF6__ZVog"
      },
      "source": [
        "print(data_dir)\n",
        "copy_images (0, start_val_data_idx, data_dir, train_dirc, train_dird)\n",
        "copy_images (start_val_data_idx, start_test_data_idx, data_dir, val_dirc, val_dird)\n",
        "copy_images (start_test_data_idx, nb_images, data_dir, test_dirc, test_dird)"
      ],
      "execution_count": null,
      "outputs": []
    }
  ]
}